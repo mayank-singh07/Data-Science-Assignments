{
  "nbformat": 4,
  "nbformat_minor": 0,
  "metadata": {
    "colab": {
      "provenance": []
    },
    "kernelspec": {
      "name": "python3",
      "display_name": "Python 3"
    },
    "language_info": {
      "name": "python"
    }
  },
  "cells": [
    {
      "cell_type": "code",
      "execution_count": 2,
      "metadata": {
        "id": "zJitAhySgWdM"
      },
      "outputs": [],
      "source": [
        "import pandas as pd\n",
        "import numpy as np\n",
        "import seaborn as sns\n",
        "import matplotlib.pyplot as plt\n",
        "from scipy import stats\n",
        "from scipy.stats import norm"
      ]
    },
    {
      "cell_type": "code",
      "source": [
        "# We consider Null hypothesis  is : Ho = Avg life of bulb >= 260 days\n",
        "# Alternate Hypothesis is : Ha = Avg life of bulb < 260 days"
      ],
      "metadata": {
        "id": "i90p5rSF-CVZ"
      },
      "execution_count": null,
      "outputs": []
    },
    {
      "cell_type": "code",
      "source": [
        "# population mean =270\n",
        "# sample =18\n",
        "# sample mean = 260\n",
        "# sample standard daviation =90\n",
        "# we have sample standard daviation so that we go for T test"
      ],
      "metadata": {
        "id": "o-ZjJzBJ9jH9"
      },
      "execution_count": 3,
      "outputs": []
    },
    {
      "cell_type": "code",
      "source": [
        "# find t-scores at x=260; t=(s_mean-P_mean)/(s_SD/sqrt(n))\n",
        "t = round((260-270)/(90/ np.sqrt(18)),2)\n",
        "t"
      ],
      "metadata": {
        "colab": {
          "base_uri": "https://localhost:8080/"
        },
        "id": "N6zv2N9G99jy",
        "outputId": "603c1b99-f853-4809-b45a-b11be988619a"
      },
      "execution_count": 6,
      "outputs": [
        {
          "output_type": "execute_result",
          "data": {
            "text/plain": [
              "-0.47"
            ]
          },
          "metadata": {},
          "execution_count": 6
        }
      ]
    },
    {
      "cell_type": "code",
      "source": [
        "# calculating the p value\n",
        "round(stats.t.cdf(-0.47,17),2)  # degree of freedom (df)=n-1=17"
      ],
      "metadata": {
        "colab": {
          "base_uri": "https://localhost:8080/"
        },
        "id": "mAIlCZYKBLtN",
        "outputId": "bdcce327-1be7-451b-893c-f10cdac28907"
      },
      "execution_count": 9,
      "outputs": [
        {
          "output_type": "execute_result",
          "data": {
            "text/plain": [
              "0.32"
            ]
          },
          "metadata": {},
          "execution_count": 9
        }
      ]
    },
    {
      "cell_type": "code",
      "source": [
        "# p = 0.32\n",
        "# alpha = 0.05\n",
        "# P > alpha\n",
        "# We are accepting null hypothesis  that means avg life of bulb is more than 260 days"
      ],
      "metadata": {
        "id": "3WLsggTmB2vf"
      },
      "execution_count": null,
      "outputs": []
    }
  ]
}